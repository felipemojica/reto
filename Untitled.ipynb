{
 "cells": [
  {
   "cell_type": "markdown",
   "metadata": {},
   "source": [
    "# TALLER 3"
   ]
  },
  {
   "cell_type": "markdown",
   "metadata": {},
   "source": [
    "<p><b>La subsecuencia de suma máxima</b></p>\n",
    "Dados n enteros a_1,a_2,...,a_n, necesitamos encontrar el valor de la expresión:\n",
    "max_{1≤ i≤ j ≤n}{\\sum_{k=i}^ja_k}\n",
    "que calcula el máximo de las sumas parciales de elementos consecutivos. e.g, dados los 6 enteros (–2,11,–4,13,–5,–2) la solución al problema es 20 (suma de a_2 hasta a_4)."
   ]
  },
  {
   "cell_type": "markdown",
   "metadata": {},
   "source": [
    "<p><b>Implemente un algoritmo trivial para solucionar el problema en tiempo O(n^3)</b></p>"
   ]
  },
  {
   "cell_type": "code",
   "execution_count": 37,
   "metadata": {
    "collapsed": true
   },
   "outputs": [],
   "source": [
    "def generate_pairs(n):\n",
    "    for i in range(n):\n",
    "        for j in range(i, n):\n",
    "            yield i, j\n",
    "\n",
    "def max_sum_subsequence(seq):\n",
    "    return max(sum(seq[i:j])\n",
    "               for i, j in generate_pairs(len(seq) + 1))"
   ]
  },
  {
   "cell_type": "code",
   "execution_count": 52,
   "metadata": {
    "collapsed": false
   },
   "outputs": [
    {
     "name": "stdout",
     "output_type": "stream",
     "text": [
      "[2, 0, 5, 1, 7, 0, 9, 5, 1, 2]\n",
      "32\n",
      "(1, 5, 3, 5, -8, 1, 5, 8, -1)\n",
      "20\n"
     ]
    }
   ],
   "source": [
    "import random\n",
    "\n",
    "seq3=[int((10)*random.random()) for i in xrange(10)]\n",
    "print seq3\n",
    "print max_sum_subsequence(seq3)\n",
    "\n",
    "seq=(1,5,3,5,-8,1,5,8,-1)\n",
    "print seq\n",
    "print max_sum_subsequence(seq)"
   ]
  },
  {
   "cell_type": "code",
   "execution_count": 53,
   "metadata": {
    "collapsed": false
   },
   "outputs": [
    {
     "name": "stdout",
     "output_type": "stream",
     "text": [
      "maxSum => 20\n",
      "start => 2 ; finish => 4\n",
      "maxSum => 30\n",
      "start => 6 ; finish => 7\n"
     ]
    }
   ],
   "source": [
    "def maxSubArray(ls):\n",
    "    if len(ls) == 0:\n",
    "       raise Exception(\"vacio\") \n",
    "      \n",
    "    runSum = maxSum = ls[0]\n",
    "    i = 0\n",
    "    start = finish = 0\n",
    "\n",
    "    for j in range(1, len(ls)):\n",
    "    \tif ls[j] > (runSum + ls[j]):\n",
    "            runSum = ls[j]\n",
    "            i = j\n",
    "        else:\n",
    "            runSum += ls[j]\n",
    "\n",
    "        if runSum > maxSum:\n",
    "            maxSum = runSum\n",
    "            start = i+1\n",
    "            finish = j+1\n",
    "\n",
    "    print \"maxSum =>\", maxSum\n",
    "    print \"start =>\", start, \"; finish =>\", finish\n",
    "\n",
    "maxSubArray([-2, 11, -4, 13, -5, 2])\n",
    "maxSubArray([-15, 29, -36, 3, -22, 11, 19, -5])"
   ]
  },
  {
   "cell_type": "code",
   "execution_count": null,
   "metadata": {
    "collapsed": true
   },
   "outputs": [],
   "source": []
  }
 ],
 "metadata": {
  "anaconda-cloud": {},
  "kernelspec": {
   "display_name": "Python [conda root]",
   "language": "python",
   "name": "conda-root-py"
  },
  "language_info": {
   "codemirror_mode": {
    "name": "ipython",
    "version": 2
   },
   "file_extension": ".py",
   "mimetype": "text/x-python",
   "name": "python",
   "nbconvert_exporter": "python",
   "pygments_lexer": "ipython2",
   "version": "2.7.12"
  }
 },
 "nbformat": 4,
 "nbformat_minor": 1
}
